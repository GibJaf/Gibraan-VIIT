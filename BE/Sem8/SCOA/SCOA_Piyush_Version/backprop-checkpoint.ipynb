{
 "cells": [
  {
   "cell_type": "code",
   "execution_count": 1,
   "metadata": {
    "colab": {},
    "colab_type": "code",
    "id": "YyD1DKqD5yv4"
   },
   "outputs": [],
   "source": [
    "alpha = 0.1"
   ]
  },
  {
   "cell_type": "code",
   "execution_count": 2,
   "metadata": {
    "colab": {},
    "colab_type": "code",
    "id": "o_s3z5lHBlRu"
   },
   "outputs": [],
   "source": [
    "x1 = 1\n",
    "x2 = 0\n",
    "\n",
    "y = 1"
   ]
  },
  {
   "cell_type": "code",
   "execution_count": 3,
   "metadata": {
    "colab": {},
    "colab_type": "code",
    "id": "AD6J0GP7A80J"
   },
   "outputs": [],
   "source": [
    "w11 = 1\n",
    "w12 = 1\n",
    "w21 = 1\n",
    "w22 = 1\n",
    "w31 = 1\n",
    "w32 = 1"
   ]
  },
  {
   "cell_type": "code",
   "execution_count": 4,
   "metadata": {
    "colab": {},
    "colab_type": "code",
    "id": "UjX9YGE178zd"
   },
   "outputs": [],
   "source": [
    "h1 = x1 * w11 + x2 * w12 \n",
    "h2 = x1 * w21 + x2 * w22\n",
    "y_hat = h1 * w31 + h2 * w32"
   ]
  },
  {
   "cell_type": "code",
   "execution_count": 5,
   "metadata": {
    "colab": {
     "base_uri": "https://localhost:8080/",
     "height": 33
    },
    "colab_type": "code",
    "id": "LwbERUpsA_2f",
    "outputId": "aaf7779d-88e7-4bee-8d1b-7d44d80fb136"
   },
   "outputs": [
    {
     "data": {
      "text/plain": [
       "2"
      ]
     },
     "execution_count": 5,
     "metadata": {},
     "output_type": "execute_result"
    }
   ],
   "source": [
    "y_hat"
   ]
  },
  {
   "cell_type": "code",
   "execution_count": 6,
   "metadata": {
    "colab": {},
    "colab_type": "code",
    "id": "qtxhBT5IBAhN"
   },
   "outputs": [],
   "source": [
    "def loss(target, predicted):\n",
    "  return ((target - predicted) ** 2) / 2"
   ]
  },
  {
   "cell_type": "code",
   "execution_count": 7,
   "metadata": {},
   "outputs": [],
   "source": [
    "def print_update_weight(weight, val, gradient):\n",
    "    print(\"Update {} value: {}. Gradient: {}\".format(weight, val, gradient))"
   ]
  },
  {
   "cell_type": "code",
   "execution_count": 8,
   "metadata": {
    "colab": {
     "base_uri": "https://localhost:8080/",
     "height": 33
    },
    "colab_type": "code",
    "id": "hB_B4LYiD34d",
    "outputId": "23ecae9e-cdc4-49b7-cb4e-38839a126d14"
   },
   "outputs": [
    {
     "name": "stdout",
     "output_type": "stream",
     "text": [
      "Update w31 value: 0.9. Gradient: 1\n",
      "Update w32 value: 0.9. Gradient: 1\n"
     ]
    }
   ],
   "source": [
    "def output_layer(w31, w32):\n",
    "    # Output Layer\n",
    "    delta_L_by_y_hat = -(y - y_hat)\n",
    "    delta_y_hat_by_w31 = h1\n",
    "\n",
    "    delta_L_by_w31 = delta_L_by_y_hat * delta_y_hat_by_w31\n",
    "\n",
    "    # update w31\n",
    "    w31 = w31 - alpha * delta_L_by_w31\n",
    "    print_update_weight('w31', w31, delta_L_by_w31)\n",
    "\n",
    "    delta_L_by_y_hat = -(y - y_hat)\n",
    "    delta_y_hat_by_w32 = h2\n",
    "\n",
    "    delta_L_by_w32 = delta_L_by_y_hat * delta_y_hat_by_w32\n",
    "\n",
    "    # update w32\n",
    "    w32 = w32 - alpha * delta_L_by_w32\n",
    "    print_update_weight('w32', w32, delta_L_by_w32)\n",
    "    \n",
    "output_layer(w31, w32)"
   ]
  },
  {
   "cell_type": "code",
   "execution_count": 9,
   "metadata": {
    "colab": {
     "base_uri": "https://localhost:8080/",
     "height": 33
    },
    "colab_type": "code",
    "id": "2oQOMyXsEUyd",
    "outputId": "5ccdbebe-9f18-44c0-9dde-539b97d2fafb"
   },
   "outputs": [
    {
     "name": "stdout",
     "output_type": "stream",
     "text": [
      "Update w11 value: 0.9. Gradient: 1\n",
      "Update w12 value: 1.0. Gradient: 0\n",
      "Update w21 value: 0.9. Gradient: 1\n",
      "Update w22 value: 1.0. Gradient: 0\n"
     ]
    }
   ],
   "source": [
    "def hidden_layer(w11, w12, w21, w22):\n",
    "    # Hidden Layer neuron 1\n",
    "\n",
    "    delta_L_by_h1 = -(y - y_hat) * w31\n",
    "    delta_h1_by_w11 = x1\n",
    "\n",
    "    delta_L_by_w11 = delta_L_by_h1 * delta_h1_by_w11\n",
    "\n",
    "    # update w11\n",
    "    w11 = w11 - alpha * delta_L_by_w11\n",
    "    print_update_weight('w11', w11, delta_L_by_w11)\n",
    "\n",
    "    delta_L_by_h1 = -(y - y_hat) * w31\n",
    "    delta_h2_by_w12 = x2\n",
    "\n",
    "    delta_L_by_w12 = delta_L_by_h1 * delta_h2_by_w12\n",
    "\n",
    "    # update w12\n",
    "    w12 = w12 - alpha * delta_L_by_w12\n",
    "    print_update_weight('w12', w12, delta_L_by_w12)\n",
    "\n",
    "    # Hidden Layer neuron 2\n",
    "\n",
    "    delta_L_by_h2 = -(y - y_hat) * w32\n",
    "    delta_h2_by_w21 = x1\n",
    "\n",
    "    delta_L_by_w21 = delta_L_by_h2 * delta_h2_by_w21\n",
    "\n",
    "    # update w21\n",
    "    w21 = w21 - alpha * delta_L_by_w21\n",
    "    print_update_weight('w21', w21, delta_L_by_w21)\n",
    "\n",
    "    delta_L_by_h2 = -(y - y_hat) * w32\n",
    "    delta_h2_by_w22 = x2\n",
    "\n",
    "    delta_L_by_w22 = delta_L_by_h2 * delta_h2_by_w22\n",
    "\n",
    "    # update w22\n",
    "    w22 = w22 - alpha * delta_L_by_w22\n",
    "    print_update_weight('w22', w22, delta_L_by_w22)\n",
    "    \n",
    "hidden_layer(w11, w12, w21, w22)"
   ]
  },
  {
   "cell_type": "code",
   "execution_count": null,
   "metadata": {
    "colab": {},
    "colab_type": "code",
    "id": "EQmvIRT1FAEQ"
   },
   "outputs": [],
   "source": []
  }
 ],
 "metadata": {
  "colab": {
   "name": "Untitled1.ipynb",
   "provenance": []
  },
  "kernelspec": {
   "display_name": "Python 3",
   "language": "python",
   "name": "python3"
  },
  "language_info": {
   "codemirror_mode": {
    "name": "ipython",
    "version": 3
   },
   "file_extension": ".py",
   "mimetype": "text/x-python",
   "name": "python",
   "nbconvert_exporter": "python",
   "pygments_lexer": "ipython3",
   "version": "3.7.6"
  }
 },
 "nbformat": 4,
 "nbformat_minor": 1
}

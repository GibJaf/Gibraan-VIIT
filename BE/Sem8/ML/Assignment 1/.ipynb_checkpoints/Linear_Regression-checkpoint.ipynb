{
 "cells": [
  {
   "cell_type": "markdown",
   "metadata": {
    "colab_type": "text",
    "id": "yqzFk4qU6Ge-"
   },
   "source": [
    "Assignment on Linear Regression:\n",
    "The following table shows the results of a recently conducted study on the correlation of the\n",
    "number of hours spent driving with the risk of developing acute backache. Find the equation of\n",
    "the best fit line for this data.\n",
    "\n",
    "No. of hours: 10,9,2,15,10,16,11,16   \n",
    "Risk score: 95,80,10,50,45,98,38,93\n",
    "\n"
   ]
  },
  {
   "cell_type": "code",
   "execution_count": 0,
   "metadata": {
    "colab": {},
    "colab_type": "code",
    "id": "VTpYIccv7qqz"
   },
   "outputs": [],
   "source": [
    "import numpy as np\n",
    "import pandas as pd\n",
    "import matplotlib.pyplot as plt\n",
    "%matplotlib inline "
   ]
  },
  {
   "cell_type": "code",
   "execution_count": 2,
   "metadata": {
    "colab": {
     "base_uri": "https://localhost:8080/",
     "height": 282
    },
    "colab_type": "code",
    "id": "buiLmWMN8Pl6",
    "outputId": "9fb397bc-048c-4205-fc09-645cf3d6e9aa"
   },
   "outputs": [
    {
     "data": {
      "text/plain": [
       "<matplotlib.collections.PathCollection at 0x7fcda00f4908>"
      ]
     },
     "execution_count": 2,
     "metadata": {
      "tags": []
     },
     "output_type": "execute_result"
    },
    {
     "data": {
      "image/png": "[encoded data removed]",
      "text/plain": [
       "<Figure size 432x288 with 1 Axes>"
      ]
     },
     "metadata": {
      "tags": []
     },
     "output_type": "display_data"
    }
   ],
   "source": [
    "X = np.array([10,9,2,15,10,16,11,16])\n",
    "y = np.array([95,80,10,50,45,98,38,93])\n",
    "plt.scatter(X,y)"
   ]
  },
  {
   "cell_type": "code",
   "execution_count": 0,
   "metadata": {
    "colab": {},
    "colab_type": "code",
    "id": "Grhva5Nk-Cxi"
   },
   "outputs": [],
   "source": [
    "def find_coef(X,y):\n",
    "  N = np.size(X)\n",
    "  # using least regression method\n",
    "  m = (N*np.sum(X*y) - np.sum(X)*np.sum(y)) / (N*np.sum(X**2) - np.sum(X)*np.sum(X))          \n",
    "  c = (np.sum(y) - m*np.sum(X)) / N\n",
    "  return (m,c)\n"
   ]
  },
  {
   "cell_type": "code",
   "execution_count": 4,
   "metadata": {
    "colab": {
     "base_uri": "https://localhost:8080/",
     "height": 34
    },
    "colab_type": "code",
    "id": "_Qx-QlK-A-tR",
    "outputId": "7eee6cf9-f3fe-48c7-d844-ac2aac7e75f6"
   },
   "outputs": [
    {
     "name": "stdout",
     "output_type": "stream",
     "text": [
      "Equation of best fit line is : y = 4.5879 * x + 12.5846\n"
     ]
    }
   ],
   "source": [
    "b=find_coef(X,y)\n",
    "# equation of line is y = mx + c\n",
    "print(\"Equation of best fit line is : y = {:.4f} * x + {:.4f}\".format(b[0],b[1]))"
   ]
  },
  {
   "cell_type": "code",
   "execution_count": 5,
   "metadata": {
    "colab": {
     "base_uri": "https://localhost:8080/",
     "height": 279
    },
    "colab_type": "code",
    "id": "OxxZsJdnCmUA",
    "outputId": "3ffba551-f279-47ed-af28-abccc9be42b9"
   },
   "outputs": [
    {
     "data": {
      "image/png": "[encoded data removed]",
      "text/plain": [
       "<Figure size 432x288 with 1 Axes>"
      ]
     },
     "metadata": {
      "tags": []
     },
     "output_type": "display_data"
    }
   ],
   "source": [
    "def plot_bestfit_line(X,y,b):\n",
    "  plt.scatter(X,y, color=\"r\", marker=\"*\", s=30)\n",
    "  y_pred = b[0]*X + b[1]\n",
    "  plt.plot(X, y_pred, color=\"b\")\n",
    "  plt.xlabel(\"X\")\n",
    "  plt.ylabel(\"Y\")\n",
    "  plt.show()\n",
    "\n",
    "# plot best fit line\n",
    "plot_bestfit_line(X,y,b)"
   ]
  },
  {
   "cell_type": "markdown",
   "metadata": {
    "colab_type": "text",
    "id": "Ylta7guxD522"
   },
   "source": [
    "# **Using library function(sklearn)**"
   ]
  },
  {
   "cell_type": "code",
   "execution_count": 0,
   "metadata": {
    "colab": {},
    "colab_type": "code",
    "id": "kZ_GCNs5EEjO"
   },
   "outputs": [],
   "source": [
    "from sklearn.linear_model import LinearRegression"
   ]
  },
  {
   "cell_type": "code",
   "execution_count": 7,
   "metadata": {
    "colab": {
     "base_uri": "https://localhost:8080/",
     "height": 34
    },
    "colab_type": "code",
    "id": "_ebB533gETVW",
    "outputId": "7955e308-262a-446f-9e5f-864c8fa7308b"
   },
   "outputs": [
    {
     "data": {
      "text/plain": [
       "LinearRegression(copy_X=True, fit_intercept=True, n_jobs=None, normalize=False)"
      ]
     },
     "execution_count": 7,
     "metadata": {
      "tags": []
     },
     "output_type": "execute_result"
    }
   ],
   "source": [
    "model = LinearRegression()\n",
    "model.fit(np.reshape(X,(-1,1)),np.reshape(y,(-1,1)))"
   ]
  },
  {
   "cell_type": "code",
   "execution_count": 8,
   "metadata": {
    "colab": {
     "base_uri": "https://localhost:8080/",
     "height": 68
    },
    "colab_type": "code",
    "id": "y2rcdmIWT-oa",
    "outputId": "2de43fc4-3b6c-4e91-c38d-7d25645a6865"
   },
   "outputs": [
    {
     "name": "stdout",
     "output_type": "stream",
     "text": [
      "Slope is:  [[4.58789861]]\n",
      "Y-intercept is:  [12.58462796]\n",
      "Equation of best fit line is : y = 4.5879 * x + 12.5846\n"
     ]
    }
   ],
   "source": [
    "print(\"Slope is: \",model.coef_)\n",
    "print(\"Y-intercept is: \",model.intercept_)\n",
    "print(\"Equation of best fit line is : y = {:.4f} * x + {:.4f}\".format(float(model.coef_),float(model.intercept_)))"
   ]
  },
  {
   "cell_type": "code",
   "execution_count": 9,
   "metadata": {
    "colab": {
     "base_uri": "https://localhost:8080/",
     "height": 34
    },
    "colab_type": "code",
    "id": "wc4cZ87DVPl6",
    "outputId": "b3c3d183-fc4e-4473-ba0a-f3638b0024b8"
   },
   "outputs": [
    {
     "data": {
      "text/plain": [
       "0.43709481451010035"
      ]
     },
     "execution_count": 9,
     "metadata": {
      "tags": []
     },
     "output_type": "execute_result"
    }
   ],
   "source": [
    "# for accuracy\n",
    "model.score(np.reshape(X,(-1,1)),np.reshape(y,(-1,1)))"
   ]
  }
 ],
 "metadata": {
  "colab": {
   "name": "Linear_Regression.ipynb",
   "provenance": []
  },
  "kernelspec": {
   "display_name": "Python 3",
   "language": "python",
   "name": "python3"
  },
  "language_info": {
   "codemirror_mode": {
    "name": "ipython",
    "version": 3
   },
   "file_extension": ".py",
   "mimetype": "text/x-python",
   "name": "python",
   "nbconvert_exporter": "python",
   "pygments_lexer": "ipython3",
   "version": "3.7.3"
  }
 },
 "nbformat": 4,
 "nbformat_minor": 1
}

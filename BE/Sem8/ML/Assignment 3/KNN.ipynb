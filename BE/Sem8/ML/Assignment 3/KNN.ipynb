{
  "nbformat": 4,
  "nbformat_minor": 0,
  "metadata": {
    "colab": {
      "name": "KNN.ipynb",
      "provenance": []
    },
    "kernelspec": {
      "name": "python3",
      "display_name": "Python 3"
    }
  },
  "cells": [
    {
      "cell_type": "markdown",
      "metadata": {
        "id": "16a6QSYAFCIk",
        "colab_type": "text"
      },
      "source": [
        "In the following diagram let blue circles indicate positive examples and orange squares indicate\n",
        "negative examples. We want to use k-NN algorithm for classifying the points. If k=3, find the\n",
        "class of the point (6,6). Extend the same example for Distance-Weighted k-NN and Locally\n",
        "weighted Averaging"
      ]
    },
    {
      "cell_type": "code",
      "metadata": {
        "id": "U1XAz8U4FIqi",
        "colab_type": "code",
        "colab": {}
      },
      "source": [
        "import numpy as np\n",
        "import pandas as pd\n",
        "import math"
      ],
      "execution_count": 0,
      "outputs": []
    },
    {
      "cell_type": "code",
      "metadata": {
        "id": "pA6tJkpDFX1j",
        "colab_type": "code",
        "colab": {}
      },
      "source": [
        "x=np.array([[2,4],[4,2],[4,4],[4,6],[6,2],[6,4]])\n",
        "y=np.array([0,0,1,0,1,0])  #  0=negative 1=positive class"
      ],
      "execution_count": 0,
      "outputs": []
    },
    {
      "cell_type": "code",
      "metadata": {
        "id": "V1pyEnF_FnuO",
        "colab_type": "code",
        "colab": {}
      },
      "source": [
        "def eucledian_distance(x1,y1,x2,y2):\n",
        "    return math.sqrt((x1-x2)**2+(y1-y2)**2)"
      ],
      "execution_count": 0,
      "outputs": []
    },
    {
      "cell_type": "code",
      "metadata": {
        "id": "w7xQ4XbmFt69",
        "colab_type": "code",
        "outputId": "a5a26015-6064-49a0-c076-73ea57fea7eb",
        "colab": {
          "base_uri": "https://localhost:8080/",
          "height": 68
        }
      },
      "source": [
        "def chooseK(arr):\n",
        "    print(\"Size of array :\",arr.shape[0])\n",
        "    k=round(math.sqrt(arr.shape[0]))\n",
        "    if(k%2==0):\n",
        "        k+=1\n",
        "    #k should be odd so that classfication can be done properly(No chance of 50%-50% classification)\n",
        "    print(\"Choosen value of K : \",k)\n",
        "    return k\n",
        "\n",
        "chooseK(x)"
      ],
      "execution_count": 4,
      "outputs": [
        {
          "output_type": "stream",
          "text": [
            "Size of array : 6\n",
            "Choosen value of K :  3\n"
          ],
          "name": "stdout"
        },
        {
          "output_type": "execute_result",
          "data": {
            "text/plain": [
              "3"
            ]
          },
          "metadata": {
            "tags": []
          },
          "execution_count": 4
        }
      ]
    },
    {
      "cell_type": "code",
      "metadata": {
        "id": "Iwty6Ze4GN3M",
        "colab_type": "code",
        "colab": {}
      },
      "source": [
        "def classifyPoint(x,y,point,k):\n",
        "    inputSize=x.shape[0]\n",
        "    \n",
        "    distance=[] #for string eucledian distance\n",
        "    for i in range(inputSize):\n",
        "        distance.append(eucledian_distance(point[0],point[1],x[i][0],x[i][1]))\n",
        "        \n",
        "    mergedList=list(zip(distance,y))\n",
        "    mergedList.sort() #sort according to increasing distance\n",
        "    \n",
        "    freq0=0 #Freq of group 0 (negative)\n",
        "    freq1=0 #Freq of group 1 (positive)\n",
        "    \n",
        "    for i in range(k): #Iterate for k neighbours\n",
        "        if(mergedList[i][1]==0):\n",
        "            freq0=freq0+1\n",
        "        elif (mergedList[i][1]==1):\n",
        "            freq1=freq1+1\n",
        "    \n",
        "    if(freq0>freq1):\n",
        "        return 0\n",
        "    else:\n",
        "        return 1"
      ],
      "execution_count": 0,
      "outputs": []
    },
    {
      "cell_type": "code",
      "metadata": {
        "id": "5C4I6nb4GjD_",
        "colab_type": "code",
        "outputId": "05c4b06d-22da-4936-bf83-a5485ded7667",
        "colab": {
          "base_uri": "https://localhost:8080/",
          "height": 170
        }
      },
      "source": [
        "def calc():\n",
        "    print(\"Input X coordinate\");\n",
        "    x_co=int(input())\n",
        "    print(\"Enter Y coordinate \")\n",
        "    y_co=int(input())\n",
        "\n",
        "    pointt=(x_co,y_co)\n",
        "    print(pointt)\n",
        "    k=chooseK(x);\n",
        "    label=\"--\"\n",
        "    if(classifyPoint(x=x,y=y,point=pointt,k=k)==0):\n",
        "        label=\"Negative\";\n",
        "    else:\n",
        "        label:\"Positive\";\n",
        "    print(\"Point {} belongs to {} class\".format(pointt,label))\n",
        "    print(classifyPoint(x=x,y=y,point=pointt,k=k))\n",
        "\n",
        "calc()"
      ],
      "execution_count": 6,
      "outputs": [
        {
          "output_type": "stream",
          "text": [
            "Input X coordinate\n",
            "6\n",
            "Enter Y coordinate \n",
            "6\n",
            "(6, 6)\n",
            "Size of array : 6\n",
            "Choosen value of K :  3\n",
            "Point (6, 6) belongs to Negative class\n",
            "0\n"
          ],
          "name": "stdout"
        }
      ]
    },
    {
      "cell_type": "markdown",
      "metadata": {
        "id": "_ZlnyPUwIS25",
        "colab_type": "text"
      },
      "source": [
        "# **Using library sklearn**"
      ]
    },
    {
      "cell_type": "code",
      "metadata": {
        "id": "NfTkbwBXGzyH",
        "colab_type": "code",
        "colab": {}
      },
      "source": [
        "from sklearn.neighbors import KNeighborsClassifier"
      ],
      "execution_count": 0,
      "outputs": []
    },
    {
      "cell_type": "code",
      "metadata": {
        "id": "LljkIrboIh_M",
        "colab_type": "code",
        "outputId": "0f2ef650-68c4-4ad6-afba-255daa7e7b8d",
        "colab": {
          "base_uri": "https://localhost:8080/",
          "height": 68
        }
      },
      "source": [
        "classifier = KNeighborsClassifier(n_neighbors=3)\n",
        "classifier.fit(x,y)"
      ],
      "execution_count": 8,
      "outputs": [
        {
          "output_type": "execute_result",
          "data": {
            "text/plain": [
              "KNeighborsClassifier(algorithm='auto', leaf_size=30, metric='minkowski',\n",
              "                     metric_params=None, n_jobs=None, n_neighbors=3, p=2,\n",
              "                     weights='uniform')"
            ]
          },
          "metadata": {
            "tags": []
          },
          "execution_count": 8
        }
      ]
    },
    {
      "cell_type": "code",
      "metadata": {
        "id": "XkxUR1nkIzoZ",
        "colab_type": "code",
        "outputId": "6d7a0256-0a8c-43b0-e052-1f8a90a1acef",
        "colab": {
          "base_uri": "https://localhost:8080/",
          "height": 34
        }
      },
      "source": [
        "x_test = np.array([6,6])\n",
        "y_pred = classifier.predict([x_test])\n",
        "if y_pred[0]==0:\n",
        "  print(\"Point\", x_test,\" belongs to class: Negative\")\n",
        "else:\n",
        "  print(\"Point\", x_test,\" belongs to class: Positive\")"
      ],
      "execution_count": 9,
      "outputs": [
        {
          "output_type": "stream",
          "text": [
            "Point [6 6]  belongs to class: Negative\n"
          ],
          "name": "stdout"
        }
      ]
    },
    {
      "cell_type": "code",
      "metadata": {
        "id": "AHHRh69pMvQ4",
        "colab_type": "code",
        "outputId": "a5ec3b77-d0be-4ae4-af07-bf01cd69ae33",
        "colab": {
          "base_uri": "https://localhost:8080/",
          "height": 34
        }
      },
      "source": [
        "# for distance weighted knn\n",
        "classifier_2 = KNeighborsClassifier(n_neighbors=3, weights='distance')\n",
        "classifier_2.fit(x,y)\n",
        "y_pred_2 = classifier_2.predict([x_test])\n",
        "if y_pred_2[0]==0:\n",
        "  print(\"Point\", x_test,\" belongs to class: Negative\")\n",
        "else:\n",
        "  print(\"Point\", x_test,\" belongs to class: Positive\")\n",
        "\n"
      ],
      "execution_count": 10,
      "outputs": [
        {
          "output_type": "stream",
          "text": [
            "Point [6 6]  belongs to class: Negative\n"
          ],
          "name": "stdout"
        }
      ]
    }
  ]
}